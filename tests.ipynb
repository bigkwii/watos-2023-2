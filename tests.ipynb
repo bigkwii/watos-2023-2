{
 "cells": [
  {
   "cell_type": "markdown",
   "metadata": {},
   "source": [
    "## RANDOM TESTS"
   ]
  },
  {
   "cell_type": "code",
   "execution_count": 1,
   "metadata": {},
   "outputs": [],
   "source": [
    "import numpy as np\n",
    "import pandas as pd\n",
    "import rdflib as rdf\n",
    "import requests\n",
    "import json\n",
    "import re\n",
    "import sys\n",
    "import SPARQLWrapper as sw\n",
    "from AnilistPython import Anilist"
   ]
  },
  {
   "cell_type": "code",
   "execution_count": 41,
   "metadata": {},
   "outputs": [],
   "source": [
    "WIKIDATA_URL = \"https://query.wikidata.org/sparql\""
   ]
  },
  {
   "cell_type": "code",
   "execution_count": 42,
   "metadata": {},
   "outputs": [],
   "source": [
    "def get_query_results(endpoint_url, query):\n",
    "    user_agent = \"WDQS-example Python/%s.%s\" % (sys.version_info[0], sys.version_info[1])\n",
    "    sparql = sw.SPARQLWrapper(endpoint_url, agent=user_agent)\n",
    "    sparql.setQuery(query)\n",
    "    sparql.setReturnFormat(sw.JSON)\n",
    "    return sparql.query().convert()"
   ]
  },
  {
   "cell_type": "code",
   "execution_count": 50,
   "metadata": {},
   "outputs": [
    {
     "name": "stdout",
     "output_type": "stream",
     "text": [
      "{\n",
      "  \"head\": {\n",
      "    \"vars\": [\n",
      "      \"anime\",\n",
      "      \"animeLabel\",\n",
      "      \"anilist_id\",\n",
      "      \"default_review_score\"\n",
      "    ]\n",
      "  },\n",
      "  \"results\": {\n",
      "    \"bindings\": [\n",
      "      {\n",
      "        \"anilist_id\": {\n",
      "          \"type\": \"literal\",\n",
      "          \"value\": \"1550\"\n",
      "        },\n",
      "        \"anime\": {\n",
      "          \"type\": \"uri\",\n",
      "          \"value\": \"http://www.wikidata.org/entity/Q98915343\"\n",
      "        },\n",
      "        \"animeLabel\": {\n",
      "          \"type\": \"literal\",\n",
      "          \"value\": \"Attack No. 1\",\n",
      "          \"xml:lang\": \"en\"\n",
      "        },\n",
      "        \"default_review_score\": {\n",
      "          \"type\": \"literal\",\n",
      "          \"value\": \"6.9/10\"\n",
      "        }\n",
      "      },\n",
      "      {\n",
      "        \"anilist_id\": {\n",
      "          \"type\": \"literal\",\n",
      "          \"value\": \"16498\"\n",
      "        },\n",
      "        \"anime\": {\n",
      "          \"type\": \"uri\",\n",
      "          \"value\": \"http://www.wikidata.org/entity/Q22126305\"\n",
      "        },\n",
      "        \"animeLabel\": {\n",
      "          \"type\": \"literal\",\n",
      "          \"value\": \"Attack on Titan\",\n",
      "          \"xml:lang\": \"en\"\n",
      "        }\n",
      "      },\n",
      "      {\n",
      "        \"anilist_id\": {\n",
      "          \"type\": \"literal\",\n",
      "          \"value\": \"21281\"\n",
      "        },\n",
      "        \"anime\": {\n",
      "          \"type\": \"uri\",\n",
      "          \"value\": \"http://www.wikidata.org/entity/Q108860715\"\n",
      "        },\n",
      "        \"animeLabel\": {\n",
      "          \"type\": \"literal\",\n",
      "          \"value\": \"Attack on Titan: Junior High\",\n",
      "          \"xml:lang\": \"en\"\n",
      "        }\n",
      "      },\n",
      "      {\n",
      "        \"anilist_id\": {\n",
      "          \"type\": \"literal\",\n",
      "          \"value\": \"104723\"\n",
      "        },\n",
      "        \"anime\": {\n",
      "          \"type\": \"uri\",\n",
      "          \"value\": \"http://www.wikidata.org/entity/Q30931897\"\n",
      "        },\n",
      "        \"animeLabel\": {\n",
      "          \"type\": \"literal\",\n",
      "          \"value\": \"Do You Love Your Mom and Her Two-Hit Multi-Target Attacks?\",\n",
      "          \"xml:lang\": \"en\"\n",
      "        }\n",
      "      },\n",
      "      {\n",
      "        \"anilist_id\": {\n",
      "          \"type\": \"literal\",\n",
      "          \"value\": \"140596\"\n",
      "        },\n",
      "        \"anime\": {\n",
      "          \"type\": \"uri\",\n",
      "          \"value\": \"http://www.wikidata.org/entity/Q115731296\"\n",
      "        },\n",
      "        \"animeLabel\": {\n",
      "          \"type\": \"literal\",\n",
      "          \"value\": \"Don't Toy with Me, Miss Nagatoro 2nd Attack\",\n",
      "          \"xml:lang\": \"en\"\n",
      "        }\n",
      "      },\n",
      "      {\n",
      "        \"anilist_id\": {\n",
      "          \"type\": \"literal\",\n",
      "          \"value\": \"636\"\n",
      "        },\n",
      "        \"anime\": {\n",
      "          \"type\": \"uri\",\n",
      "          \"value\": \"http://www.wikidata.org/entity/Q62076812\"\n",
      "        },\n",
      "        \"animeLabel\": {\n",
      "          \"type\": \"literal\",\n",
      "          \"value\": \"Jubei-chan 2: The Counterattack of Siberia Yagyu\",\n",
      "          \"xml:lang\": \"en\"\n",
      "        }\n",
      "      },\n",
      "      {\n",
      "        \"anilist_id\": {\n",
      "          \"type\": \"literal\",\n",
      "          \"value\": \"87\"\n",
      "        },\n",
      "        \"anime\": {\n",
      "          \"type\": \"uri\",\n",
      "          \"value\": \"http://www.wikidata.org/entity/Q1363770\"\n",
      "        },\n",
      "        \"animeLabel\": {\n",
      "          \"type\": \"literal\",\n",
      "          \"value\": \"Mobile Suit Gundam: Char's Counterattack\",\n",
      "          \"xml:lang\": \"en\"\n",
      "        }\n",
      "      }\n",
      "    ]\n",
      "  }\n",
      "}\n"
     ]
    }
   ],
   "source": [
    "anime_name_query = \"attack\"\n",
    "\n",
    "# get the anime id from wikidata\n",
    "query = \"\"\"\n",
    "SELECT ?anime ?animeLabel ?anilist_id ?default_review_score WHERE {\n",
    "  ?anime wdt:P31/wdt:P279* wd:Q1107 .\n",
    "  ?anime wdt:P8729 ?anilist_id .\n",
    "  ?anime rdfs:label ?animeLabel.\n",
    "\n",
    "  # stuff that may or not be there\n",
    "  OPTIONAL{?anime wdt:P444 ?default_review_score}\n",
    "  \n",
    "  # filters\n",
    "  FILTER(LANG(?animeLabel) = \"en\")\n",
    "  FILTER(REGEX(?animeLabel, \"%s\", \"i\"))\n",
    "  SERVICE wikibase:label { bd:serviceParam wikibase:language \"[AUTO_LANGUAGE],en\" . }\n",
    "} ORDER BY ?animeLabel\n",
    "\"\"\" % anime_name_query\n",
    "\n",
    "results = get_query_results(WIKIDATA_URL, query)\n",
    "\n",
    "print(json.dumps(results, indent=2, sort_keys=True))\n"
   ]
  },
  {
   "cell_type": "code",
   "execution_count": 51,
   "metadata": {},
   "outputs": [
    {
     "name": "stdout",
     "output_type": "stream",
     "text": [
      "['Q98915343', 'Q22126305', 'Q108860715', 'Q30931897', 'Q115731296', 'Q62076812', 'Q1363770']\n"
     ]
    }
   ],
   "source": [
    "# get the entities found in the query\n",
    "entities = []\n",
    "for result in results[\"results\"][\"bindings\"]:\n",
    "    entities.append(result[\"anime\"][\"value\"].split(\"/\")[-1])\n",
    "print(entities)"
   ]
  },
  {
   "cell_type": "code",
   "execution_count": 52,
   "metadata": {},
   "outputs": [
    {
     "name": "stdout",
     "output_type": "stream",
     "text": [
      "['1550', '16498', '21281', '104723', '140596', '636', '87']\n"
     ]
    }
   ],
   "source": [
    "# for each entity in entities, get the genres, anilist id\n",
    "anilist_ids = []\n",
    "for entity in entities:\n",
    "    query = \"\"\"\n",
    "    SELECT ?anilist_id WHERE {\n",
    "        ?anime wdt:P31/wdt:P279* wd:Q1107 .\n",
    "        ?anime wdt:P8729 ?anilist_id .\n",
    "        FILTER(?anime = wd:%s)\n",
    "    }\n",
    "    \"\"\" % entity\n",
    "    results = get_query_results(WIKIDATA_URL, query)\n",
    "    anilist_ids.append(results[\"results\"][\"bindings\"][0][\"anilist_id\"][\"value\"])\n",
    "\n",
    "print(anilist_ids)\n"
   ]
  },
  {
   "cell_type": "code",
   "execution_count": 55,
   "metadata": {},
   "outputs": [
    {
     "name": "stdout",
     "output_type": "stream",
     "text": [
      "[['Drama', 'Sports'], ['Action', 'Drama', 'Fantasy', 'Mystery'], ['Comedy', 'Fantasy', 'Slice of Life'], ['Action', 'Adventure', 'Comedy', 'Ecchi', 'Fantasy'], ['Comedy', 'Romance', 'Slice of Life'], ['Adventure', 'Comedy', 'Drama'], ['Drama', 'Mecha', 'Sci-Fi']]\n",
      "[61, 84, 69, 52, 74, 62, 74]\n"
     ]
    }
   ],
   "source": [
    "# for each anilist id, get the genres and the average score\n",
    "genres = []\n",
    "scores = []\n",
    "anilist = Anilist()\n",
    "for anilist_id in anilist_ids:\n",
    "    anime = anilist.get_anime_with_id(anilist_id)\n",
    "    genres.append(anime[\"genres\"])\n",
    "    scores.append(anime[\"average_score\"])\n",
    "\n",
    "print(genres)\n",
    "print(scores)"
   ]
  },
  {
   "cell_type": "code",
   "execution_count": 56,
   "metadata": {},
   "outputs": [
    {
     "name": "stdout",
     "output_type": "stream",
     "text": [
      "{'Drama': [61, 84, 62, 74], 'Sports': [61], 'Action': [84, 52], 'Fantasy': [84, 69, 52], 'Mystery': [84], 'Comedy': [69, 52, 74, 62], 'Slice of Life': [69, 74], 'Adventure': [52, 62], 'Ecchi': [52], 'Romance': [74], 'Mecha': [74], 'Sci-Fi': [74]}\n"
     ]
    }
   ],
   "source": [
    "# get the average score per genre\n",
    "genre_scores = {}\n",
    "for i in range(len(genres)):\n",
    "    for genre in genres[i]:\n",
    "        if genre not in genre_scores:\n",
    "            genre_scores[genre] = []\n",
    "        genre_scores[genre].append(scores[i])\n",
    "print(genre_scores)"
   ]
  },
  {
   "cell_type": "code",
   "execution_count": 5,
   "metadata": {},
   "outputs": [
    {
     "name": "stdout",
     "output_type": "stream",
     "text": [
      "dict_keys(['name_romaji', 'name_english', 'starting_time', 'ending_time', 'cover_image', 'banner_image', 'airing_format', 'airing_status', 'airing_episodes', 'season', 'desc', 'average_score', 'genres', 'next_airing_ep'])\n",
      "0.84\n",
      "https://s4.anilist.co/file/anilistcdn/media/anime/cover/medium/bx16498-C6FPmWm59CyP.jpg\n"
     ]
    }
   ],
   "source": [
    "# get imdb score for Neon Genesis Evangelion\n",
    "# entity Q662\n",
    "# imdb id tt0112159\n",
    "anilist = Anilist()\n",
    "anime = anilist.get_anime_with_id(int(\"16498\"))\n",
    "anime_score = anilist.get_anime_with_id(int(\"16498\"))[\"average_score\"]/100\n",
    "anime_genres = anilist.get_anime_with_id(int(\"16498\"))[\"genres\"]\n",
    "anime_image = anilist.get_anime_with_id(int(\"16498\"))['cover_image']\n",
    "print(anime.keys())\n",
    "print(anime_score)\n",
    "print(anime_image)\n"
   ]
  }
 ],
 "metadata": {
  "kernelspec": {
   "display_name": "Python 3",
   "language": "python",
   "name": "python3"
  },
  "language_info": {
   "codemirror_mode": {
    "name": "ipython",
    "version": 3
   },
   "file_extension": ".py",
   "mimetype": "text/x-python",
   "name": "python",
   "nbconvert_exporter": "python",
   "pygments_lexer": "ipython3",
   "version": "3.11.4"
  }
 },
 "nbformat": 4,
 "nbformat_minor": 2
}
