{
 "cells": [
  {
   "cell_type": "markdown",
   "metadata": {},
   "source": [
    "## RANDOM TESTS"
   ]
  },
  {
   "cell_type": "code",
   "execution_count": 2,
   "metadata": {},
   "outputs": [],
   "source": [
    "import numpy as np\n",
    "import pandas as pd\n",
    "import rdflib as rdf\n",
    "import requests\n",
    "import json\n",
    "import re\n",
    "import sys\n",
    "import SPARQLWrapper as sw\n",
    "from PyMovieDb import IMDB"
   ]
  },
  {
   "cell_type": "code",
   "execution_count": 3,
   "metadata": {},
   "outputs": [],
   "source": [
    "WIKIDATA_URL = \"https://query.wikidata.org/sparql\""
   ]
  },
  {
   "cell_type": "code",
   "execution_count": 4,
   "metadata": {},
   "outputs": [],
   "source": [
    "def get_query_results(endpoint_url, query):\n",
    "    user_agent = \"WDQS-example Python/%s.%s\" % (sys.version_info[0], sys.version_info[1])\n",
    "    sparql = sw.SPARQLWrapper(endpoint_url, agent=user_agent)\n",
    "    sparql.setQuery(query)\n",
    "    sparql.setReturnFormat(sw.JSON)\n",
    "    return sparql.query().convert()"
   ]
  },
  {
   "cell_type": "code",
   "execution_count": 36,
   "metadata": {},
   "outputs": [
    {
     "name": "stdout",
     "output_type": "stream",
     "text": [
      "{\n",
      "  \"head\": {\n",
      "    \"vars\": [\n",
      "      \"anime\",\n",
      "      \"animeLabel\",\n",
      "      \"animeIMDBid\",\n",
      "      \"default_review_score\"\n",
      "    ]\n",
      "  },\n",
      "  \"results\": {\n",
      "    \"bindings\": [\n",
      "      {\n",
      "        \"anime\": {\n",
      "          \"type\": \"uri\",\n",
      "          \"value\": \"http://www.wikidata.org/entity/Q98915343\"\n",
      "        },\n",
      "        \"animeIMDBid\": {\n",
      "          \"type\": \"literal\",\n",
      "          \"value\": \"tt0296304\"\n",
      "        },\n",
      "        \"animeLabel\": {\n",
      "          \"type\": \"literal\",\n",
      "          \"value\": \"Attack No. 1\",\n",
      "          \"xml:lang\": \"en\"\n",
      "        },\n",
      "        \"default_review_score\": {\n",
      "          \"type\": \"literal\",\n",
      "          \"value\": \"6.9/10\"\n",
      "        }\n",
      "      },\n",
      "      {\n",
      "        \"anime\": {\n",
      "          \"type\": \"uri\",\n",
      "          \"value\": \"http://www.wikidata.org/entity/Q22126305\"\n",
      "        },\n",
      "        \"animeIMDBid\": {\n",
      "          \"type\": \"literal\",\n",
      "          \"value\": \"tt2560140\"\n",
      "        },\n",
      "        \"animeLabel\": {\n",
      "          \"type\": \"literal\",\n",
      "          \"value\": \"Attack on Titan\",\n",
      "          \"xml:lang\": \"en\"\n",
      "        }\n",
      "      },\n",
      "      {\n",
      "        \"anime\": {\n",
      "          \"type\": \"uri\",\n",
      "          \"value\": \"http://www.wikidata.org/entity/Q108860715\"\n",
      "        },\n",
      "        \"animeIMDBid\": {\n",
      "          \"type\": \"literal\",\n",
      "          \"value\": \"tt4906830\"\n",
      "        },\n",
      "        \"animeLabel\": {\n",
      "          \"type\": \"literal\",\n",
      "          \"value\": \"Attack on Titan: Junior High\",\n",
      "          \"xml:lang\": \"en\"\n",
      "        }\n",
      "      },\n",
      "      {\n",
      "        \"anime\": {\n",
      "          \"type\": \"uri\",\n",
      "          \"value\": \"http://www.wikidata.org/entity/Q2624529\"\n",
      "        },\n",
      "        \"animeIMDBid\": {\n",
      "          \"type\": \"literal\",\n",
      "          \"value\": \"tt0294007\"\n",
      "        },\n",
      "        \"animeLabel\": {\n",
      "          \"type\": \"literal\",\n",
      "          \"value\": \"Attacker You!\",\n",
      "          \"xml:lang\": \"en\"\n",
      "        }\n",
      "      },\n",
      "      {\n",
      "        \"anime\": {\n",
      "          \"type\": \"uri\",\n",
      "          \"value\": \"http://www.wikidata.org/entity/Q30931897\"\n",
      "        },\n",
      "        \"animeIMDBid\": {\n",
      "          \"type\": \"literal\",\n",
      "          \"value\": \"tt10443344\"\n",
      "        },\n",
      "        \"animeLabel\": {\n",
      "          \"type\": \"literal\",\n",
      "          \"value\": \"Do You Love Your Mom and Her Two-Hit Multi-Target Attacks?\",\n",
      "          \"xml:lang\": \"en\"\n",
      "        }\n",
      "      },\n",
      "      {\n",
      "        \"anime\": {\n",
      "          \"type\": \"uri\",\n",
      "          \"value\": \"http://www.wikidata.org/entity/Q1363770\"\n",
      "        },\n",
      "        \"animeIMDBid\": {\n",
      "          \"type\": \"literal\",\n",
      "          \"value\": \"tt0095262\"\n",
      "        },\n",
      "        \"animeLabel\": {\n",
      "          \"type\": \"literal\",\n",
      "          \"value\": \"Mobile Suit Gundam: Char's Counterattack\",\n",
      "          \"xml:lang\": \"en\"\n",
      "        }\n",
      "      }\n",
      "    ]\n",
      "  }\n",
      "}\n"
     ]
    }
   ],
   "source": [
    "anime_name_query = \"attack\"\n",
    "\n",
    "# get the anime id from wikidata\n",
    "query = \"\"\"\n",
    "SELECT ?anime ?animeLabel ?animeIMDBid ?default_review_score WHERE {\n",
    "  ?anime wdt:P31/wdt:P279* wd:Q1107 .\n",
    "  ?anime wdt:P345 ?animeIMDBid .\n",
    "  ?anime rdfs:label ?animeLabel.\n",
    "\n",
    "  # stuff that may or not be there\n",
    "  OPTIONAL{?anime wdt:P444 ?default_review_score}\n",
    "  \n",
    "  # filters\n",
    "  FILTER(LANG(?animeLabel) = \"en\")\n",
    "  FILTER(REGEX(?animeLabel, \"%s\", \"i\"))\n",
    "  SERVICE wikibase:label { bd:serviceParam wikibase:language \"[AUTO_LANGUAGE],en\" . }\n",
    "} ORDER BY ?animeLabel\n",
    "\"\"\" % anime_name_query\n",
    "\n",
    "results = get_query_results(WIKIDATA_URL, query)\n",
    "\n",
    "print(json.dumps(results, indent=2, sort_keys=True))\n"
   ]
  },
  {
   "cell_type": "code",
   "execution_count": 38,
   "metadata": {},
   "outputs": [
    {
     "name": "stdout",
     "output_type": "stream",
     "text": [
      "9.1\n"
     ]
    }
   ],
   "source": [
    "# get imdb score for Neon Genesis Evangelion\n",
    "# entity Q662\n",
    "# imdb id tt0112159\n",
    "imdb = IMDB()\n",
    "imdb_score = json.loads(imdb.get_by_id(\"tt2560140\"))[\"rating\"][\"ratingValue\"]\n",
    "print(imdb_score)"
   ]
  }
 ],
 "metadata": {
  "kernelspec": {
   "display_name": "Python 3",
   "language": "python",
   "name": "python3"
  },
  "language_info": {
   "codemirror_mode": {
    "name": "ipython",
    "version": 3
   },
   "file_extension": ".py",
   "mimetype": "text/x-python",
   "name": "python",
   "nbconvert_exporter": "python",
   "pygments_lexer": "ipython3",
   "version": "3.11.4"
  }
 },
 "nbformat": 4,
 "nbformat_minor": 2
}
